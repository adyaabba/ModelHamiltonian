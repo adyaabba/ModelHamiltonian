{
 "cells": [
  {
   "cell_type": "markdown",
   "metadata": {},
   "source": [
    "# Tutorial: Easy Quantum System Setup with ChatGPT\n",
    "\n",
    "Welcome to our ChatGPT-powered tutorial on setting up Hamiltonians for quantum systems! Get ready to dive into the quantum world effortlessly. Let's spice things up with some visual flair!\n",
    "\n",
    "## What You Can Do with ChatGPT\n",
    "\n",
    "With ChatGPT, you're in control! Here's what you can tweak:\n",
    "\n",
    "### Customize Your System\n",
    "\n",
    "- **Electrons**: Adjust the number of electrons buzzing around.\n",
    "- **Orbitals**: Play with the spatial arrangement by setting the orbital count.\n",
    "- **Symmetry**: Fine-tune the electron integrals' symmetry.\n",
    "- **Connectivity**: Choose between periodic or open boundaries, and explore 1D chains or 2D lattices.\n",
    "\n",
    "### Tailor Your Hamiltonian\n",
    "\n",
    "- **Occupation-based**: Set energies for each orbital, tweak interactions between neighboring orbitals, and manage Coulomb repulsion between electrons.\n",
    "- **Spin-based**: Adjust couplings between electrons on the same or adjacent orbitals, and control the strength of the magnetic field.\n",
    "\n",
    "\n",
    "**Note**: Giving full control to ChatGPT can lead to some unexpected results. But don't worry, we've got you covered with a few presets to get you started. Let's dive in!"
   ]
  },
  {
   "cell_type": "markdown",
   "metadata": {},
   "source": [
    "## Before you start\n",
    "\n",
    "Before you start, make sure you have installed the gpt version of the ModelHamiltonian package. You can find detailed instructions [here](https://moha.qcdevs.org/install.html).\n",
    "Once intalled, you need to provide your OpenAI API key to use the model. You can find instructions on how to get your API key at the [official OpenAI tutorial](https://platform.openai.com/docs/quickstart/step-2-set-up-your-api-key).\n",
    "\n",
    "Please, make sure to put your API key in the file called `config.toml` that is located in the folder `~/moha/gpt`. Don't forget to put quotes around your API key."
   ]
  },
  {
   "cell_type": "markdown",
   "metadata": {},
   "source": [
    "## Example 1: Simple 1D Huckel model\n",
    "\n",
    "In this example we will see how to generate a simple 1D Huckel model. We will set the number of electrons to 4, the number of orbitals to 4, and the hopping parameter to 1.\n",
    "We will save ouput to fcidump file that will be called `huckel_1d.fcidump`."
   ]
  },
  {
   "cell_type": "markdown",
   "metadata": {},
   "source": [
    "### Step 1: Set up the system\n",
    "ChatGPT has generated 1D Huckel model with open boundary conditions. The hamiltonian is saved in the file `huckel_1d.fcidump`."
   ]
  },
  {
   "cell_type": "code",
   "execution_count": 2,
   "metadata": {},
   "outputs": [
    {
     "name": "stdout",
     "output_type": "stream",
     "text": [
      "This is a simple 1D Huckel model with open boundary condition. The hopping parameter (t) is set to -1, indicating a negative energy for interaction between adjacent orbitals. The energy of orbitals (alpha) is set to 0, indicating no energy difference between orbitals. The system has 4 sites and 4 spatial orbitals.\n"
     ]
    }
   ],
   "source": [
    "from moha.gpt import generate_ham\n",
    "\n",
    "ham = generate_ham(\"Generate a simple 1d Huckel model with open boundary condition and t=-1. Set energy of orbitals alpha equal to 0. System has 4 sites and 4 orbitals. Return ouput in the spatial basis. \\\n",
    "                    Save it to the fcidump file called huckel_1d\")"
   ]
  },
  {
   "cell_type": "markdown",
   "metadata": {},
   "source": [
    "\n",
    "### Step 2: Accessing results\n",
    "Once generated, electron integrals are stored as [scipy.sparse.csr_matrix](https://docs.scipy.org/doc/scipy/reference/generated/scipy.sparse.csr_matrix.html). \n",
    "We will convert one-electron integral to dense matrix and print it using the `to_dense` method. "
   ]
  },
  {
   "cell_type": "code",
   "execution_count": 3,
   "metadata": {},
   "outputs": [
    {
     "name": "stdout",
     "output_type": "stream",
     "text": [
      "[[ 0. -1.  0.  0.]\n",
      " [-1.  0. -1.  0.]\n",
      " [ 0. -1.  0. -1.]\n",
      " [ 0.  0. -1.  0.]]\n"
     ]
    }
   ],
   "source": [
    "one_body = ham.one_body\n",
    "one_body_dense = ham.to_dense(one_body)\n",
    "print(one_body_dense)\n"
   ]
  },
  {
   "cell_type": "markdown",
   "metadata": {},
   "source": [
    "Great! One-electron integrals are generated correctly. Let's move on to the next example."
   ]
  },
  {
   "cell_type": "markdown",
   "metadata": {},
   "source": [
    "## Example 2: 1D Hubbard model\n",
    "\n",
    "In this example we will see how to generate a 1D Hubbard model with periodic boundary condtions. We will set the number of electrons to 2, the number of orbitals to 4, the hopping parameter to -1, and the Coulomb repulsion on each site to 0.5. The energy of orbital we set to 0. We can save ouput as .npz file that will be called `hubbard_1d`."
   ]
  },
  {
   "cell_type": "code",
   "execution_count": 4,
   "metadata": {},
   "outputs": [
    {
     "name": "stdout",
     "output_type": "stream",
     "text": [
      "The Hubbard model describes interacting electrons on a lattice. The parameter t is the hopping parameter, controlling the energy penalty for an electron to hop between neighboring sites. The parameter U is the on-site Coulomb interaction, representing the energy cost for two electrons to occupy the same site. In this system, there are 2 electrons distributed over 4 orbitals. The energy of each orbital is set to 0. The system has periodic boundary conditions, meaning the last site is connected to the first site.\n",
      "[[ 0. -1.  0. -1.]\n",
      " [-1.  0. -1.  0.]\n",
      " [ 0. -1.  0. -1.]\n",
      " [-1.  0. -1.  0.]]\n",
      "Element (0, 0, 0, 0) has value 0.5\n",
      "Element (1, 1, 1, 1) has value 0.5\n",
      "Element (2, 2, 2, 2) has value 0.5\n",
      "Element (3, 3, 3, 3) has value 0.5\n"
     ]
    },
    {
     "name": "stderr",
     "output_type": "stream",
     "text": [
      "/Users/valeriichuiko/anaconda3/lib/python3.11/site-packages/scipy/sparse/_index.py:100: SparseEfficiencyWarning: Changing the sparsity structure of a csr_matrix is expensive. lil_matrix is more efficient.\n",
      "  self._set_intXint(row, col, x.flat[0])\n"
     ]
    }
   ],
   "source": [
    "import numpy as np\n",
    "\n",
    "hub = generate_ham(\"Generate a simple  Hubbard model with periodic boundary condition and t=-1, U=0.5.\\\n",
    "                    Put energy of orbital equal to 0. System has 2 electrons and 4 orbitals. Return ouput in the spatial basis. \\\n",
    "                    Save it to the npz file and call it hubbard_1d.\")\n",
    "\n",
    "one_body = hub.one_body\n",
    "one_body_dense = hub.to_dense(one_body)\n",
    "print(one_body_dense)\n",
    "\n",
    "\n",
    "two_body = hub.two_body\n",
    "# to convert two_body to dense form we need to specify the dimension of the returned tensor\n",
    "# in this case, the dimension is 4\n",
    "two_body_dense = hub.to_dense(two_body, dim=4)\n",
    "# get non-zero elements\n",
    "indices = np.where(two_body_dense != 0)\n",
    "# print non-zero elements\n",
    "for ind in zip(*indices):\n",
    "    print(f\"Element {ind} has value {two_body_dense[ind]}\")"
   ]
  },
  {
   "cell_type": "markdown",
   "metadata": {},
   "source": [
    "Example 2 is ready! Let's move on to the spin-based Hamiltonian."
   ]
  },
  {
   "cell_type": "markdown",
   "metadata": {},
   "source": [
    "## Example 3: Spin-based Hamiltonian\n",
    "\n",
    "In this example we will see how to generate a Heisenber XXX model. We will set the number of electrons to 4, the number of orbitals to 4. The coupling terms between electrons are $J_{eq} = J_{ax} = 0.5$. This time we will not save the output to a file."
   ]
  },
  {
   "cell_type": "code",
   "execution_count": 10,
   "metadata": {},
   "outputs": [
    {
     "name": "stdout",
     "output_type": "stream",
     "text": [
      "This is a 1D Heisenberg model with periodic boundary condition. The system has 4 sites and 4 orbitals. The coupling terms along both the x and y axes are equal to 0.5.\n",
      "J_ax is: \n",
      " [[0.  0.5 0.  0.5]\n",
      " [0.5 0.  0.5 0. ]\n",
      " [0.  0.5 0.  0.5]\n",
      " [0.5 0.  0.5 0. ]]\n",
      " J_eq is:\n",
      " [[0.  0.5 0.  0.5]\n",
      " [0.5 0.  0.5 0. ]\n",
      " [0.  0.5 0.  0.5]\n",
      " [0.5 0.  0.5 0. ]]\n",
      "External field = 0.0\n"
     ]
    }
   ],
   "source": [
    "heisenberg = generate_ham(\"Generate a 1d Heisenberg model with periodic boundary condition. Both coupling terms are equal to 0.5.\\\n",
    "                           System has 4 sites and 4 orbitals. Return ouput in the spinorbital basis and don't save the result.\")\n",
    "\n",
    "# checking if parameters are set correctly\n",
    "print(f\"J_ax is: \\n {heisenberg.J_ax}\\n J_eq is:\\n {heisenberg.J_eq}\")\n",
    "print(f\"External field = {heisenberg.mu}\")\n",
    "\n",
    "one_body = heisenberg.one_body\n",
    "one_body_dense = heisenberg.to_dense(one_body)\n",
    "\n",
    "two_body = heisenberg.two_body\n",
    "two_body_dense = heisenberg.to_dense(two_body)\n",
    "\n"
   ]
  },
  {
   "cell_type": "markdown",
   "metadata": {},
   "source": [
    "Great job! It seems like you're getting the hang of it. Let's move on to the next, final example."
   ]
  },
  {
   "cell_type": "markdown",
   "metadata": {},
   "source": [
    "## Example 4: Richardson model\n",
    "\n",
    "In this example we will see the real power of ChatGPT. We will generate a Richardson model with 6 electrons and 3x2 orbitals.\n",
    "We will set a 2 dimensional lattice 3x2 lattice with periodic boundary conditions. The coupling term is set to 0.5. Keep in mind, that in this case chatgpt will need to realize that in richardson model $J_{ax}$ term does not exist."
   ]
  },
  {
   "cell_type": "code",
   "execution_count": 6,
   "metadata": {},
   "outputs": [
    {
     "name": "stdout",
     "output_type": "stream",
     "text": [
      "2D Richardson-Gaudin model with 6 electrons, 3x2 size, periodic boundary condition, and coupling J=0.5 in the spatial basis. Assuming 4-fold symmetry.\n"
     ]
    }
   ],
   "source": [
    "rg = generate_ham(\"Generate a 2d Richardson-Gaudin model that has 6 electrons. It should have a 3x2 size with periodic boundary condition. Coupling J is 0.5.\\\n",
    "                   Return ouput in the spatial basis. Assume 4-fold symmetry. Don't save the result.\")"
   ]
  },
  {
   "cell_type": "markdown",
   "metadata": {},
   "source": [
    "Impressive! You've successfully set up a Richardson model. Let's print the adjacency matrix and $J_{eq}, J_{aq}$ terms to see if everything is correct."
   ]
  },
  {
   "cell_type": "code",
   "execution_count": 7,
   "metadata": {},
   "outputs": [
    {
     "name": "stdout",
     "output_type": "stream",
     "text": [
      "Adjacency matrix is:\n",
      " \n",
      " [[0. 1. 1. 1. 0. 0.]\n",
      " [1. 0. 1. 0. 1. 0.]\n",
      " [1. 1. 0. 0. 0. 1.]\n",
      " [1. 0. 0. 0. 1. 1.]\n",
      " [0. 1. 0. 1. 0. 1.]\n",
      " [0. 0. 1. 1. 1. 0.]] \n",
      "\n",
      "J_ax is:\n",
      " [[0. 0. 0. 0. 0. 0.]\n",
      " [0. 0. 0. 0. 0. 0.]\n",
      " [0. 0. 0. 0. 0. 0.]\n",
      " [0. 0. 0. 0. 0. 0.]\n",
      " [0. 0. 0. 0. 0. 0.]\n",
      " [0. 0. 0. 0. 0. 0.]] \n",
      "\n",
      "J_eq is:\n",
      " [[0.  0.5 0.5 0.5 0.  0. ]\n",
      " [0.5 0.  0.5 0.  0.5 0. ]\n",
      " [0.5 0.5 0.  0.  0.  0.5]\n",
      " [0.5 0.  0.  0.  0.5 0.5]\n",
      " [0.  0.5 0.  0.5 0.  0.5]\n",
      " [0.  0.  0.5 0.5 0.5 0. ]]\n"
     ]
    }
   ],
   "source": [
    "print(f\"Adjacency matrix is:\\n \\n {rg.connectivity} \\n\")\n",
    "print(f\"J_ax is:\\n {rg.J_ax} \\n\")\n",
    "print(f\"J_eq is:\\n {rg.J_eq}\") "
   ]
  }
 ],
 "metadata": {
  "kernelspec": {
   "display_name": "Python 3",
   "language": "python",
   "name": "python3"
  },
  "language_info": {
   "codemirror_mode": {
    "name": "ipython",
    "version": 3
   },
   "file_extension": ".py",
   "mimetype": "text/x-python",
   "name": "python",
   "nbconvert_exporter": "python",
   "pygments_lexer": "ipython3",
   "version": "3.11.5"
  }
 },
 "nbformat": 4,
 "nbformat_minor": 2
}
