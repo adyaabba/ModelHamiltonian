{
 "cells": [
  {
   "cell_type": "markdown",
   "metadata": {},
   "source": [
    "# Tutorial: Benzene\n",
    "\n",
    "## Introduction\n",
    "In this tutorial, we'll focus on generating integrals for the PPP model considering real organic molecule --  Benzene.\n",
    "This example is used to showcase the simplicity of usage a ModelHamiltoian package to build a Hamiltonian that corresponds to the one found in the [literature](https://www.sciencedirect.com/science/article/pii/S0301010499000178). "
   ]
  },
  {
   "cell_type": "markdown",
   "metadata": {},
   "source": [
    "To do this, we are going to consider the most general occupation-number Hamiltonian we consider is the generalized Pariser-Parr-Pople (PPP) Hamiltonian:\n",
    "\n",
    "$$\\hat{H}_{\\text{PPP}} = \\sum_{pq} h_{pq} a_p^\\dagger a_q + \\sum_p U_p \\hat{n}_{p\\alpha}\\hat{n}_{p\\beta} + \\frac{1}{2}\\sum_{p\\ne q} \\gamma_{pq} (\\hat{n}_{p \\alpha} + \\hat{n}_{p \\beta} - Q_p)(\\hat{n}_{q \\alpha} + \\hat{n}_{q \\beta} - Q_q) $$\n"
   ]
  },
  {
   "cell_type": "markdown",
   "metadata": {},
   "source": [
    "## Example: Defining PPP Hamiltonian\n",
    "\n",
    "There are several ways to build a PPP Hamiltonian. The most straightforward way is to evaluate $gamma$ matrix and provide it to the `ModelHamiltonian` class. \n"
   ]
  },
  {
   "cell_type": "code",
   "execution_count": 1,
   "metadata": {},
   "outputs": [
    {
     "name": "stdout",
     "output_type": "stream",
     "text": [
      "Beta: 0.0, FCI Energy: -1.4210854715202004e-14\n",
      "Beta: -1.0, FCI Energy: -2.779514577625207\n",
      "Beta: -2.0, FCI Energy: -9.084603708594514\n",
      "Beta: -3.0, FCI Energy: -16.484889549995387\n",
      "Beta: -4.0, FCI Energy: -24.195014064799068\n",
      "Beta: -5.0, FCI Energy: -32.024692914537454\n"
     ]
    }
   ],
   "source": [
    "# import sys \n",
    "# sys.path.insert(0, '../')\n",
    "import numpy as np \n",
    "import sys \n",
    "import numpy as np \n",
    "from moha import HamPPP \n",
    "from pyscf import gto, scf, fci \n",
    "\n",
    "def build_gamma(norb=6):\n",
    "    # Define the gamma matrix here (example shape) \n",
    "    gamma_matrix = np.zeros((norb, norb))\n",
    "\n",
    "    gamma_a_a1 = 5.27760 \n",
    "    gamma_a_a2 = 3.86206 \n",
    "    gamma_a_a3 = 3.48785 \n",
    "    \n",
    "    # Fill the matrix according to the given rules \n",
    "    for a in range(norb): \n",
    "        gamma_matrix[a, a-1] = gamma_a_a1 \n",
    "        gamma_matrix[a, a-2] = gamma_a_a2 \n",
    "        gamma_matrix[a, a-3] = gamma_a_a3 \n",
    "        \n",
    "    gamma_matrix = np.maximum(gamma_matrix, np.transpose(gamma_matrix))\n",
    "    return gamma_matrix\n",
    " \n",
    "# Define the benzene system with a 6-membered ring structure \n",
    "system = [('C1', 'C2', 1), ('C2', 'C3', 1),  \n",
    "          ('C3', 'C4', 1), ('C4', 'C5', 1),  \n",
    "          ('C5', 'C6', 1), ('C6', 'C1', 1)] \n",
    "\n",
    "\n",
    "#Define U_onsite, alpha and gamma matrix \n",
    "u_onsite = 10.84 * np.ones(6) / 2\n",
    "alpha = 0 \n",
    " \n",
    "gamma_matrix = build_gamma()\n",
    "# Loop to vary beta from 0 to -5\n",
    "for beta in np.linspace(0, -5, num=6):\n",
    "    # Generate the PPP object\n",
    "    ppp_hamiltonian = HamPPP(system, alpha=alpha, beta=beta, u_onsite=u_onsite, gamma=gamma_matrix, charges=np.ones(6))\n",
    "    \n",
    "    # Generate the 0, 1, 2 body integral elements\n",
    "    e01 = ppp_hamiltonian.generate_zero_body_integral() \n",
    "    h11 = ppp_hamiltonian.generate_one_body_integral(dense=True, basis='spatial basis') \n",
    "    h2 = ppp_hamiltonian.generate_two_body_integral(dense=True, basis='spatial basis', sym=4) \n",
    " \n",
    "    # Convert h2 to chemists notation \n",
    "    h21_ch = 1*np.transpose(h2, (0, 2, 1, 3)) \n",
    "    norb = h11.shape[0] \n",
    "    nelec = norb  # Assuming one electron per site  \n",
    "\n",
    "    # Perform the FCI calculation \n",
    "    e_fci, ci = fci.direct_spin1.kernel(1*h11, 2*h21_ch, norb, nelec, ecore=e01, nroots=1)\n",
    "    print(f'Beta: {beta}, FCI Energy: {e_fci}')\n"
   ]
  },
  {
   "cell_type": "markdown",
   "metadata": {},
   "source": [
    "# PPP Benzene: Building gamma\n",
    "\n",
    "What if we want to build $gamma$ matrix for a molecule? The power and flexibility of the `ModelHamiltonian` package allows us to do that.\n",
    "\n",
    "\n",
    "MoHa package offers a functionality to compute $gamma$ using the module `PariserParr` and the function `compute_gamma`. \n",
    "Computation of $gamma$ matrix requires two ingridients: \n",
    "* `u_onsite` - potential on each site/atoms\n",
    "* `R_xy` - distances between sites/atoms\n",
    "\n",
    "Note: you don't need to provide any of those parameters. If `u_onsite` is not provided, the matrix $\\overline{U}_{XY}$ will be populated using the formula:\n",
    "$$\n",
    "\\overline{U}_{XY} = \\frac{1}{2}(U_X + U_Y)\n",
    "$$ \n",
    "\n",
    "where \n",
    "$$ U_x = I_x - A_x $$\n",
    "Values of `I_x` and `A_x` ionisation potential and electron affinity of the atom `x` respectively. User can provide those values in the form of a dictionary `affinity_dct` and `atom_dict` or use the default values.\n",
    "\n",
    "\n",
    "If `R_xy` is not provided, it will be automatically populated from the distances provided at `connectivity` parameter.\n",
    "\n",
    "\n",
    "\n",
    "Finally, $gamma$ is computed using the formula:\n",
    "\n",
    "$$\n",
    "\\gamma_{XY} = \\frac{\\overline{U}_{XY}}{\\overline{U}_{XY} R_{XY} + e^{-\\frac{1}{2} \\overline{U}_{XY}^2 R_{XY}^2}}\n",
    "$$\n",
    "\n",
    "\n",
    "\n",
    "\n",
    "\n"
   ]
  },
  {
   "cell_type": "markdown",
   "metadata": {},
   "source": [
    "Defining the Benzene system following th same structure defined in the previous tutorials, we decide to move on with Full Configuration Iteraction of the hamiltonian, building $gamma$ matrix using the `PariserParr` module.\n",
    "\n",
    "Varying $\\beta$ from 0 to -5, in this piece of code we prove that we can achieve the spectrum of energies reported in Bendazzoli et al."
   ]
  },
  {
   "cell_type": "code",
   "execution_count": 2,
   "metadata": {},
   "outputs": [
    {
     "name": "stdout",
     "output_type": "stream",
     "text": [
      "Beta: 0.0, FCI Energy: 8.881784197001252e-16\n",
      "Beta: -1.0, FCI Energy: -1.6000550795826625\n",
      "Beta: -2.0, FCI Energy: -5.956135566002675\n",
      "Beta: -3.0, FCI Energy: -12.105432809022926\n",
      "Beta: -4.0, FCI Energy: -19.126580752154776\n",
      "Beta: -5.0, FCI Energy: -26.54429608422473\n"
     ]
    }
   ],
   "source": [
    "from moha.rauk import PariserParr\n",
    "\n",
    "def build_Rxy_matrix(norb=6):\n",
    "    d = np.zeros((norb, norb))\n",
    "    for mu in range(6):\n",
    "        for nu in range(6):\n",
    "            d[mu, nu] = 1.4 * np.sin(np.pi * abs(mu - nu) / norb) / np.sin(np.pi / norb)\n",
    "    return d\n",
    "\n",
    "# Define the benzene system with a 6-membered ring structure\n",
    "system = [('C1', 'C2', 1), ('C2', 'C3', 1),  \n",
    "          ('C3', 'C4', 1), ('C4', 'C5', 1),  \n",
    "          ('C5', 'C6', 1), ('C6', 'C1', 1)] \n",
    "\n",
    "Rxy_matrix = build_Rxy_matrix()\n",
    "\n",
    "# compute u_onsite for the given system\n",
    "u, _ = PariserParr.compute_u(system, ionization_dictionary={'C': 11.16}, # ionization energy of carbon in eV\n",
    "                                     affinity_dictionary={'C': 0.03}) # electron affinity of carbon in eV\n",
    "\n",
    "# compute gamma for the given system\n",
    "gamma_matrix_ppp = PariserParr.compute_gamma(system, Rxy_matrix=Rxy_matrix,\n",
    "                                             u_onsite=u/2)\n",
    "\n",
    "alpha = 0\n",
    "\n",
    "# Loop to vary beta from 0 to -5\n",
    "for beta in np.linspace(0, -5, num=6):\n",
    "    ppp_hamiltonian = HamPPP(system, alpha=alpha, gamma = gamma_matrix_ppp, beta=beta, u_onsite=u/2, charges=np.ones(6))\n",
    "    \n",
    "    # Generate the 0, 1, 2 body integral elements\n",
    "    e0 = ppp_hamiltonian.generate_zero_body_integral() \n",
    "    h1 = ppp_hamiltonian.generate_one_body_integral(dense=True, basis='spatial basis') \n",
    "    h2 = ppp_hamiltonian.generate_two_body_integral(dense=True, basis='spatial basis', sym=4)\n",
    "    \n",
    "    # Convert h2 to chemists notation\n",
    "    h2_ch = np.transpose(h2, (0, 2, 1, 3))\n",
    "    norb = h1.shape[0]\n",
    "    nelec = norb  # Assuming one electron per site  \n",
    "\n",
    "    # Perform the FCI calculation\n",
    "    e_fci, ci = fci.direct_spin1.kernel(1*h1, 2*h2_ch, norb, nelec, ecore=e0, nroots=1)\n",
    "    print(f'Beta: {beta}, FCI Energy: {e_fci}')"
   ]
  },
  {
   "cell_type": "markdown",
   "metadata": {},
   "source": [
    "## Heteroatoms\n",
    "\n",
    "The ModelHamiotonian package also supports the possibility of using different type of atoms, using the Rauk’s table (RAUK, 2001).\n",
    "\n",
    "To do this, simply replace an atom of C with one of B.\n"
   ]
  },
  {
   "cell_type": "code",
   "execution_count": 3,
   "metadata": {},
   "outputs": [
    {
     "name": "stdout",
     "output_type": "stream",
     "text": [
      "Alpha: -0.414, Beta: -0.0533, FCI Energy: -29.85842553617428\n"
     ]
    }
   ],
   "source": [
    "import sys \n",
    "import numpy as np \n",
    "from moha import HamPPP \n",
    "from pyscf import gto, scf, fci \n",
    " \n",
    "# Define the benzene system with a 6-membered ring structure \n",
    "system = [('B1', 'C2', 1), ('C2', 'C3', 1),  \n",
    "          ('C3', 'C4', 1), ('C4', 'C5', 1),  \n",
    "          ('C5', 'C6', 1), ('C6', 'B1', 1)] \n",
    " \n",
    "u_onsite = np.array([10.84, 10.84, 10.84, 10.84, 10.84, 10.84]) / 2\n",
    "gamma_matrix = PariserParr.compute_gamma(system, u_onsite=u_onsite)\n",
    "\n",
    "norb = 6  # Number of orbitals for benzene (6 carbons) \n",
    "ppp_hamiltonian = HamPPP(system, u_onsite=u_onsite, gamma=gamma_matrix, charges=np.array([1 for _ in range(6)]))\n",
    "\n",
    "e0 = ppp_hamiltonian.generate_zero_body_integral() \n",
    "h1 = ppp_hamiltonian.generate_one_body_integral(dense=True, basis='spatial basis') \n",
    "h2 = ppp_hamiltonian.generate_two_body_integral(dense=True, basis='spatial basis', sym=4) \n",
    " \n",
    "# Convert h2 to chemists notation \n",
    "h2_ch = np.transpose(h2, (0, 2, 1, 3)) \n",
    "norb = h1.shape[0] \n",
    "nelec = norb  # Assuming one electron per site  \n",
    "\n",
    "# Perform the FCI calculation \n",
    "e_fci, ci = fci.direct_spin1.kernel(h1, h2_ch, norb, nelec, ecore=e0, nroots=1)\n",
    "print(f'Alpha: {ppp_hamiltonian.alpha}, Beta: {ppp_hamiltonian.beta}, FCI Energy: {e_fci}')\n"
   ]
  },
  {
   "cell_type": "markdown",
   "metadata": {},
   "source": [
    "# References\n",
    "\n",
    "Bendazzoli, G. L., Evangelisti, S., & Gagliardi, L. (1994). Full configuration interaction study of the ground state of closed-shell cyclic PPP polyenes. International Journal of Quantum Chemistry, 51(1), 117-123. https://doi.org/10.1002/qua.560510104\n",
    "\n",
    "\n",
    "\n"
   ]
  }
 ],
 "metadata": {
  "kernelspec": {
   "display_name": "Python 3",
   "language": "python",
   "name": "python3"
  },
  "language_info": {
   "codemirror_mode": {
    "name": "ipython",
    "version": 3
   },
   "file_extension": ".py",
   "mimetype": "text/x-python",
   "name": "python",
   "nbconvert_exporter": "python",
   "pygments_lexer": "ipython3",
   "version": "3.9.7"
  }
 },
 "nbformat": 4,
 "nbformat_minor": 2
}
